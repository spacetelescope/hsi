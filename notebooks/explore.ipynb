{
 "cells": [
  {
   "cell_type": "markdown",
   "metadata": {},
   "source": [
    "# Abstract"
   ]
  },
  {
   "cell_type": "markdown",
   "metadata": {},
   "source": [
    "Learn about the data."
   ]
  },
  {
   "cell_type": "markdown",
   "metadata": {},
   "source": [
    "# Environment"
   ]
  },
  {
   "cell_type": "code",
   "execution_count": null,
   "metadata": {},
   "outputs": [],
   "source": [
    "import sys\n",
    "from pathlib import Path"
   ]
  },
  {
   "cell_type": "code",
   "execution_count": null,
   "metadata": {},
   "outputs": [],
   "source": [
    "sys.path.insert(0, str(Path('..')))"
   ]
  },
  {
   "cell_type": "code",
   "execution_count": null,
   "metadata": {},
   "outputs": [],
   "source": [
    "from bokeh.io import output_notebook, push_notebook, show\n",
    "from bokeh.plotting import figure\n",
    "from ipywidgets import interact\n",
    "import numpy as np"
   ]
  },
  {
   "cell_type": "code",
   "execution_count": null,
   "metadata": {},
   "outputs": [],
   "source": [
    "DATA_PATH = Path('.') / '..' / '..' / 'data'"
   ]
  },
  {
   "cell_type": "markdown",
   "metadata": {},
   "source": [
    "# Library"
   ]
  },
  {
   "cell_type": "code",
   "execution_count": null,
   "metadata": {},
   "outputs": [],
   "source": [
    "def moving_average(a, n=3):\n",
    "    \"\"\"Compute the moving average\"\"\"\n",
    "    result = np.cumsum(a)\n",
    "    result[n:] = result[n:] - result[:-n]\n",
    "    return result[n-1:] / n"
   ]
  },
  {
   "cell_type": "code",
   "execution_count": null,
   "metadata": {},
   "outputs": [],
   "source": [
    "def central_idxs_constraint(a, c=0.8, adj=0):\n",
    "    \"\"\"Return central indexes of regions meeting constraint\"\"\"\n",
    "    central_idxs = []\n",
    "    meets = np.abs(a) > c\n",
    "    has_met = False\n",
    "    for idx, met in enumerate(meets):\n",
    "        if met:\n",
    "            adj_idx = idx + adj\n",
    "            if has_met:\n",
    "                region.append(adj_idx)\n",
    "            else:\n",
    "                region = [adj_idx]\n",
    "                has_met = True\n",
    "        else:\n",
    "            if has_met:\n",
    "                central_idxs.append(int(np.mean(region)))\n",
    "                has_met = False\n",
    "    return central_idxs"
   ]
  },
  {
   "cell_type": "markdown",
   "metadata": {},
   "source": [
    "# Main"
   ]
  },
  {
   "cell_type": "code",
   "execution_count": null,
   "metadata": {},
   "outputs": [],
   "source": [
    "output_notebook()"
   ]
  },
  {
   "cell_type": "markdown",
   "metadata": {},
   "source": [
    "## Read in the data"
   ]
  },
  {
   "cell_type": "code",
   "execution_count": null,
   "metadata": {},
   "outputs": [],
   "source": [
    "data = {}\n",
    "for fname in DATA_PATH.glob('*.npy'):\n",
    "    data[fname.stem] = np.load(fname)"
   ]
  },
  {
   "cell_type": "code",
   "execution_count": null,
   "metadata": {},
   "outputs": [],
   "source": [
    "jump = data['ubot']\n",
    "idx_none = 0\n",
    "idx_jumps = 1\n",
    "idx_many_missed = 80"
   ]
  },
  {
   "cell_type": "markdown",
   "metadata": {},
   "source": [
    "## Explore results"
   ]
  },
  {
   "cell_type": "code",
   "execution_count": null,
   "metadata": {},
   "outputs": [],
   "source": [
    "mva_window = 10\n",
    "jump_constraint = 0.7\n",
    "jump_kernel = [-1., 1.]"
   ]
  },
  {
   "cell_type": "code",
   "execution_count": null,
   "metadata": {},
   "outputs": [],
   "source": [
    "p_edge = figure(plot_width=950, tooltips=[(\"x\", \"$x\"), (\"value\", \"@y\")])"
   ]
  },
  {
   "cell_type": "code",
   "execution_count": null,
   "metadata": {},
   "outputs": [],
   "source": [
    "render_edge = p_edge.circle(range(40000), jump[0], size=3)\n",
    "mva = moving_average(jump[0], n=mva_window)\n",
    "mva_convolve = np.convolve(mva, jump_kernel, mode='valid')\n",
    "jump_locations = central_idxs_constraint(mva_convolve, jump_constraint, adj=mva_window / 2 + 1)\n",
    "print(jump_locations)\n",
    "render_locs = p_edge.vbar(jump_locations, width=2, top=np.amax(jump[0]), bottom=np.amin(jump[0]), \n",
    "                         line_color='red')"
   ]
  },
  {
   "cell_type": "code",
   "execution_count": null,
   "metadata": {},
   "outputs": [],
   "source": [
    "def update_p_edge(idx):\n",
    "    mva = moving_average(jump[idx], n=mva_window)\n",
    "    mva_convolve = np.convolve(mva, jump_kernel, mode='valid')\n",
    "    jump_locations = central_idxs_constraint(mva_convolve, jump_constraint, adj=mva_window / 2 + 1)\n",
    "    print(jump_locations)\n",
    "    render_edge.data_source.data['y'] = jump[idx]\n",
    "    render_locs.data_source.data['x'] = jump_locations\n",
    "    render_locs.glyph.top = np.amax(jump[idx])\n",
    "    render_locs.glyph.bottom = np.amin(jump[idx])\n",
    "    push_notebook()"
   ]
  },
  {
   "cell_type": "code",
   "execution_count": null,
   "metadata": {},
   "outputs": [],
   "source": [
    "show(p_edge, notebook_handle=True)"
   ]
  },
  {
   "cell_type": "code",
   "execution_count": null,
   "metadata": {},
   "outputs": [],
   "source": [
    "interact(update_p_edge, idx=(0, data['ubot'].shape[0] - 1))"
   ]
  },
  {
   "cell_type": "markdown",
   "metadata": {},
   "source": [
    "# Test & Utilities"
   ]
  },
  {
   "cell_type": "markdown",
   "metadata": {},
   "source": [
    "## Plot a line"
   ]
  },
  {
   "cell_type": "code",
   "execution_count": null,
   "metadata": {},
   "outputs": [],
   "source": [
    "p_nav = figure(plot_width=950, tooltips=[(\"x\", \"$x\"), (\"value\", \"@y\")])"
   ]
  },
  {
   "cell_type": "code",
   "execution_count": null,
   "metadata": {},
   "outputs": [],
   "source": [
    "render = p_nav.circle(range(40000), data['ubot'][0], size=4)"
   ]
  },
  {
   "cell_type": "code",
   "execution_count": null,
   "metadata": {},
   "outputs": [],
   "source": [
    "def update_p_nav(idx):\n",
    "    render.data_source.data['y'] = data['ubot'][idx]\n",
    "    push_notebook()"
   ]
  },
  {
   "cell_type": "code",
   "execution_count": null,
   "metadata": {},
   "outputs": [],
   "source": [
    "show(p_nav, notebook_handle=True)"
   ]
  },
  {
   "cell_type": "code",
   "execution_count": null,
   "metadata": {},
   "outputs": [],
   "source": [
    "interact(update_p_nav, idx=(0, data['ubot'].shape[0] - 1))"
   ]
  },
  {
   "cell_type": "markdown",
   "metadata": {},
   "source": [
    "## Moving Average"
   ]
  },
  {
   "cell_type": "code",
   "execution_count": null,
   "metadata": {},
   "outputs": [],
   "source": [
    "mva_none = moving_average(jump[idx_none], n=10)"
   ]
  },
  {
   "cell_type": "code",
   "execution_count": null,
   "metadata": {},
   "outputs": [],
   "source": [
    "p_mva_none = figure(plot_width=950)\n",
    "p_mva_none.circle(range(len(mva_none)), mva_none, size=2)\n",
    "show(p_mva_none)"
   ]
  },
  {
   "cell_type": "code",
   "execution_count": null,
   "metadata": {},
   "outputs": [],
   "source": [
    "mva_jumps = moving_average(jump[idx_jumps], n=10)"
   ]
  },
  {
   "cell_type": "code",
   "execution_count": null,
   "metadata": {},
   "outputs": [],
   "source": [
    "p_mva_jumps = figure(plot_width=950)\n",
    "p_mva_jumps.circle(range(len(mva_jumps)), mva_jumps, size=2)\n",
    "show(p_mva_jumps)"
   ]
  },
  {
   "cell_type": "markdown",
   "metadata": {},
   "source": [
    "## Jump detection with basic convolution"
   ]
  },
  {
   "cell_type": "code",
   "execution_count": null,
   "metadata": {},
   "outputs": [],
   "source": [
    "kernel = [-1., 1.]\n",
    "# kernel = [1., -4., 1.]\n",
    "# kernel = [4., -20., 4.]\n",
    "# kernel = [-1., -2., 16, -2., -1.]"
   ]
  },
  {
   "cell_type": "code",
   "execution_count": null,
   "metadata": {},
   "outputs": [],
   "source": [
    "c_none = np.convolve(jump[idx_none], kernel, mode='valid')"
   ]
  },
  {
   "cell_type": "code",
   "execution_count": null,
   "metadata": {},
   "outputs": [],
   "source": [
    "p_convolve = figure(plot_width=950)"
   ]
  },
  {
   "cell_type": "code",
   "execution_count": null,
   "metadata": {},
   "outputs": [],
   "source": [
    "p_convolve.circle(range(len(c_none)), c_none, size=2)"
   ]
  },
  {
   "cell_type": "code",
   "execution_count": null,
   "metadata": {},
   "outputs": [],
   "source": [
    "show(p_convolve)"
   ]
  },
  {
   "cell_type": "code",
   "execution_count": null,
   "metadata": {},
   "outputs": [],
   "source": [
    "c_jumps = np.convolve(mva_jumps, kernel, mode='valid')"
   ]
  },
  {
   "cell_type": "code",
   "execution_count": null,
   "metadata": {},
   "outputs": [],
   "source": [
    "p_jumps = figure(plot_width=950)"
   ]
  },
  {
   "cell_type": "code",
   "execution_count": null,
   "metadata": {},
   "outputs": [],
   "source": [
    "p_jumps.circle(range(len(c_jumps)), c_jumps, size=2)"
   ]
  },
  {
   "cell_type": "code",
   "execution_count": null,
   "metadata": {},
   "outputs": [],
   "source": [
    "show(p_jumps)"
   ]
  },
  {
   "cell_type": "code",
   "execution_count": null,
   "metadata": {},
   "outputs": [],
   "source": [
    "central_idxs = central_idxs_constraint(c_jumps, 0.7, adj=5+1)"
   ]
  },
  {
   "cell_type": "code",
   "execution_count": null,
   "metadata": {},
   "outputs": [],
   "source": [
    "central_idxs"
   ]
  },
  {
   "cell_type": "code",
   "execution_count": null,
   "metadata": {},
   "outputs": [],
   "source": []
  }
 ],
 "metadata": {
  "kernelspec": {
   "display_name": "Python 3",
   "language": "python",
   "name": "python3"
  },
  "language_info": {
   "codemirror_mode": {
    "name": "ipython",
    "version": 3
   },
   "file_extension": ".py",
   "mimetype": "text/x-python",
   "name": "python",
   "nbconvert_exporter": "python",
   "pygments_lexer": "ipython3",
   "version": "3.6.8"
  }
 },
 "nbformat": 4,
 "nbformat_minor": 2
}
