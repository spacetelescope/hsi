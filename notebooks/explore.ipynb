{
 "cells": [
  {
   "cell_type": "markdown",
   "metadata": {},
   "source": [
    "# Abstract"
   ]
  },
  {
   "cell_type": "markdown",
   "metadata": {},
   "source": [
    "Learn about the data."
   ]
  },
  {
   "cell_type": "markdown",
   "metadata": {},
   "source": [
    "# Environment"
   ]
  },
  {
   "cell_type": "code",
   "execution_count": null,
   "metadata": {},
   "outputs": [],
   "source": [
    "import sys\n",
    "from pathlib import Path"
   ]
  },
  {
   "cell_type": "code",
   "execution_count": null,
   "metadata": {},
   "outputs": [],
   "source": [
    "sys.path.insert(0, str(Path('..')))"
   ]
  },
  {
   "cell_type": "code",
   "execution_count": null,
   "metadata": {},
   "outputs": [],
   "source": [
    "from bokeh.io import output_notebook, push_notebook, show\n",
    "from bokeh.models import LinearAxis, Range1d\n",
    "from bokeh.plotting import figure\n",
    "from ipywidgets import FloatSlider, IntSlider, interact\n",
    "import numpy as np\n",
    "from scipy import ndimage"
   ]
  },
  {
   "cell_type": "code",
   "execution_count": null,
   "metadata": {},
   "outputs": [],
   "source": [
    "DATA_PATH = Path('.') / '..' / '..' / 'data'"
   ]
  },
  {
   "cell_type": "markdown",
   "metadata": {},
   "source": [
    "# Library"
   ]
  },
  {
   "cell_type": "code",
   "execution_count": null,
   "metadata": {},
   "outputs": [],
   "source": [
    "def moving_average(a, n=3):\n",
    "    \"\"\"Compute the moving average\"\"\"\n",
    "    result = np.cumsum(a)\n",
    "    result[n:] = result[n:] - result[:-n]\n",
    "    return result[n-1:] / n"
   ]
  },
  {
   "cell_type": "code",
   "execution_count": null,
   "metadata": {},
   "outputs": [],
   "source": [
    "def central_idxs_constraint(a, c=0.8, adj=0):\n",
    "    \"\"\"Return central indexes of regions meeting constraint\n",
    "    \n",
    "    Parameters\n",
    "    ----------\n",
    "    a: nd.array\n",
    "        Convolution array\n",
    "    c: float\n",
    "        Constraint above which counts as a signal\n",
    "    adj: int\n",
    "        Adjustment to apply to the indicies, due to averaging\n",
    "        \n",
    "    Returns\n",
    "    -------\n",
    "    central_idxs: [int[,...]]\n",
    "        List of central indexes of continous regions\n",
    "        where the contraint has been met\n",
    "    \"\"\"\n",
    "    central_idxs = []\n",
    "    meets = np.abs(a) > c\n",
    "    has_met = False\n",
    "    for idx, met in enumerate(meets):\n",
    "        if met:\n",
    "            adj_idx = idx + adj\n",
    "            if has_met:\n",
    "                region.append(adj_idx)\n",
    "            else:\n",
    "                region = [adj_idx]\n",
    "                has_met = True\n",
    "        else:\n",
    "            if has_met:\n",
    "                central_idxs.append(int(np.mean(region)))\n",
    "                has_met = False\n",
    "    return central_idxs"
   ]
  },
  {
   "cell_type": "code",
   "execution_count": null,
   "metadata": {},
   "outputs": [],
   "source": [
    "def calc_jump_means(data, jump_locations, data_window=3, pad=1):\n",
    "    \"\"\"Determine the means on each side of the jumps\n",
    "    \n",
    "    Parameters\n",
    "    ----------\n",
    "    data: np.array\n",
    "        The data.\n",
    "        \n",
    "    jump_locations: list or np.array\n",
    "        The jump locations.\n",
    "        \n",
    "    data_window: int\n",
    "        Size of the averaging window\n",
    "        \n",
    "    pad: int\n",
    "        Distance from the jump location to place the average\n",
    "        windows on each side of the jump.\n",
    "        \n",
    "    Returns\n",
    "    -------\n",
    "    [((left_idx,  left_mean), (right_idx, right_mean))[,...]]\n",
    "        Two pairs of index and mean, left and right of the jump.\n",
    "    \"\"\"\n",
    "    jump_means = []\n",
    "    half_window = data_window // 2\n",
    "    for jump_loc in jump_locations:\n",
    "        left_idx = jump_loc - half_window - pad\n",
    "        left_mean = np.mean(data[jump_loc - pad - data_window:jump_loc - pad])\n",
    "        right_idx = jump_loc + half_window + pad\n",
    "        right_mean = np.mean(data[jump_loc + pad:jump_loc + pad + data_window])\n",
    "        jump_means.append(((left_idx, left_mean), (right_idx, right_mean)))\n",
    "    return jump_means\n"
   ]
  },
  {
   "cell_type": "markdown",
   "metadata": {},
   "source": [
    "# Main"
   ]
  },
  {
   "cell_type": "code",
   "execution_count": null,
   "metadata": {},
   "outputs": [],
   "source": [
    "output_notebook()"
   ]
  },
  {
   "cell_type": "markdown",
   "metadata": {},
   "source": [
    "## Read in the data"
   ]
  },
  {
   "cell_type": "code",
   "execution_count": null,
   "metadata": {},
   "outputs": [],
   "source": [
    "data = {}\n",
    "for fname in DATA_PATH.glob('*.npy'):\n",
    "    data[fname.stem] = np.load(fname)"
   ]
  },
  {
   "cell_type": "code",
   "execution_count": null,
   "metadata": {},
   "outputs": [],
   "source": [
    "jump = data['ubot']\n",
    "idx_none = 0\n",
    "idx_jumps = 1\n",
    "idx_many_missed = 80\n",
    "idx_steep_but_positive = 86"
   ]
  },
  {
   "cell_type": "code",
   "execution_count": null,
   "metadata": {},
   "outputs": [],
   "source": [
    "jump = data['utop']\n",
    "\n",
    "# idx = 6 F'ed up data\n",
    "# idx = 11 hmmm, questionable\n",
    "# idx = 17 twang\n",
    "# idx = 25 bad data"
   ]
  },
  {
   "cell_type": "code",
   "execution_count": null,
   "metadata": {},
   "outputs": [],
   "source": [
    "# jump = data['uref']\n"
   ]
  },
  {
   "cell_type": "code",
   "execution_count": null,
   "metadata": {},
   "outputs": [],
   "source": [
    "# jump = data['umid']\n",
    "\n",
    "# idx = 4 just steep?"
   ]
  },
  {
   "cell_type": "markdown",
   "metadata": {},
   "source": [
    "## Explore results"
   ]
  },
  {
   "cell_type": "code",
   "execution_count": null,
   "metadata": {},
   "outputs": [],
   "source": [
    "jump_constraint = 0.8\n",
    "data_window = 13\n",
    "convolve_window = 5\n",
    "jump_kernel = [-1., 1.]"
   ]
  },
  {
   "cell_type": "code",
   "execution_count": null,
   "metadata": {},
   "outputs": [],
   "source": [
    "mva = moving_average(jump[0], n=data_window)\n",
    "# mva_convolve = np.convolve(mva, jump_kernel, mode='valid')\n",
    "mva_convolve = ndimage.sobel(mva)\n",
    "mva_convolve_mva = moving_average(mva_convolve, n=convolve_window)\n",
    "jump_locations = central_idxs_constraint(mva_convolve_mva, jump_constraint, \n",
    "                                         adj=data_window / 2 + convolve_window / 2 + 1)\n",
    "jump_means = calc_jump_means(jump[0], jump_locations, data_window=data_window)"
   ]
  },
  {
   "cell_type": "code",
   "execution_count": null,
   "metadata": {},
   "outputs": [],
   "source": [
    "p_edge = figure(plot_width=950, tooltips=[(\"x\", \"$x\"), (\"value\", \"@y\")])\n",
    "p_edge.extra_y_ranges = {'convolve': Range1d(start=-2.0, end=2.0)}\n",
    "p_edge.add_layout(LinearAxis(y_range_name='convolve'), 'right')\n",
    "render_locs = p_edge.vbar(jump_locations, width=2, top=np.amax(jump[0]), bottom=np.amin(jump[0]), \n",
    "                         line_color='red', fill_color='red')\n",
    "convolve = p_edge.circle(range(len(mva_convolve_mva)), mva_convolve_mva, size=2, y_range_name='convolve',\n",
    "                        fill_color='green', line_color=None)\n",
    "render_edge = p_edge.circle(range(len(jump[0])), jump[0], size=3, fill_color=None)\n",
    "\n",
    "# Graph the means\n",
    "left, right = zip(*jump_means)\n",
    "idxs, means = zip(*left, *right)\n",
    "render_means = p_edge.dash(idxs, means, size=20, line_color='orange')"
   ]
  },
  {
   "cell_type": "code",
   "execution_count": null,
   "metadata": {},
   "outputs": [],
   "source": [
    "def update_p_edge(idx, cutoff=1.5, data_window=data_window, convolve_window=convolve_window):\n",
    "    # Calculate\n",
    "    mva = moving_average(jump[idx], n=data_window)\n",
    "    mva_convolve = ndimage.sobel(mva)\n",
    "    mva_convolve_mva = moving_average(mva_convolve, n=convolve_window)\n",
    "    jump_locations = central_idxs_constraint(mva_convolve_mva, cutoff, adj=data_window / 2 + convolve_window / 2 + 1)\n",
    "    jump_means = calc_jump_means(jump[idx], jump_locations, data_window=data_window)\n",
    "\n",
    "    # Plot data and convolution\n",
    "    render_edge.data_source.data['y'] = jump[idx]\n",
    "    convolve.data_source.data['x'] = range(len(mva_convolve_mva)) \n",
    "    convolve.data_source.data['y'] = mva_convolve_mva\n",
    "    \n",
    "    # Plot out jump locations\n",
    "    render_locs.data_source.data['x'] = jump_locations\n",
    "    render_locs.glyph.top = np.amax(jump[idx])\n",
    "    render_locs.glyph.bottom = np.amin(jump[idx])\n",
    "    \n",
    "    # Plot out jump means\n",
    "    left, right = zip(*jump_means)\n",
    "    idxs, means = zip(*left, *right)\n",
    "    render_means.data_source.data['x'] = idxs\n",
    "    render_means.data_source.data['y'] = means\n",
    "    \n",
    "    push_notebook()"
   ]
  },
  {
   "cell_type": "code",
   "execution_count": null,
   "metadata": {},
   "outputs": [],
   "source": [
    "show(p_edge, notebook_handle=True)"
   ]
  },
  {
   "cell_type": "code",
   "execution_count": null,
   "metadata": {},
   "outputs": [],
   "source": [
    "interact(update_p_edge, idx=IntSlider(min=0, max=data['ubot'].shape[0] - 1, value=0), \n",
    "         cutoff=FloatSlider(min=0., max=5., value=jump_constraint), \n",
    "         data_window=IntSlider(min=1, max=100, value=data_window), \n",
    "         convolve_window=IntSlider(min=1, max=100, value=convolve_window))"
   ]
  },
  {
   "cell_type": "markdown",
   "metadata": {},
   "source": [
    "# Test & Utilities"
   ]
  },
  {
   "cell_type": "markdown",
   "metadata": {},
   "source": [
    "## Plot a line"
   ]
  },
  {
   "cell_type": "code",
   "execution_count": null,
   "metadata": {},
   "outputs": [],
   "source": [
    "p_nav = figure(plot_width=950, tooltips=[(\"x\", \"$x\"), (\"value\", \"@y\")])"
   ]
  },
  {
   "cell_type": "code",
   "execution_count": null,
   "metadata": {},
   "outputs": [],
   "source": [
    "render = p_nav.circle(range(40000), data['ubot'][0], size=4)"
   ]
  },
  {
   "cell_type": "code",
   "execution_count": null,
   "metadata": {},
   "outputs": [],
   "source": [
    "def update_p_nav(idx):\n",
    "    render.data_source.data['y'] = data['ubot'][idx]\n",
    "    push_notebook()"
   ]
  },
  {
   "cell_type": "code",
   "execution_count": null,
   "metadata": {},
   "outputs": [],
   "source": [
    "show(p_nav, notebook_handle=True)"
   ]
  },
  {
   "cell_type": "code",
   "execution_count": null,
   "metadata": {},
   "outputs": [],
   "source": [
    "interact(update_p_nav, idx=(0, data['ubot'].shape[0] - 1))"
   ]
  },
  {
   "cell_type": "markdown",
   "metadata": {},
   "source": [
    "## Moving Average"
   ]
  },
  {
   "cell_type": "code",
   "execution_count": null,
   "metadata": {},
   "outputs": [],
   "source": [
    "mva_none = moving_average(jump[idx_none], n=10)"
   ]
  },
  {
   "cell_type": "code",
   "execution_count": null,
   "metadata": {},
   "outputs": [],
   "source": [
    "p_mva_none = figure(plot_width=950)\n",
    "p_mva_none.circle(range(len(mva_none)), mva_none, size=2)\n",
    "show(p_mva_none)"
   ]
  },
  {
   "cell_type": "code",
   "execution_count": null,
   "metadata": {},
   "outputs": [],
   "source": [
    "mva_jumps = moving_average(jump[idx_jumps], n=10)"
   ]
  },
  {
   "cell_type": "code",
   "execution_count": null,
   "metadata": {},
   "outputs": [],
   "source": [
    "p_mva_jumps = figure(plot_width=950)\n",
    "p_mva_jumps.circle(range(len(mva_jumps)), mva_jumps, size=2)\n",
    "show(p_mva_jumps)"
   ]
  },
  {
   "cell_type": "markdown",
   "metadata": {},
   "source": [
    "## Jump detection with basic convolution"
   ]
  },
  {
   "cell_type": "code",
   "execution_count": null,
   "metadata": {},
   "outputs": [],
   "source": [
    "kernel = [-1., 1.]\n",
    "# kernel = [1., -4., 1.]\n",
    "# kernel = [4., -20., 4.]\n",
    "# kernel = [-1., -2., 16, -2., -1.]"
   ]
  },
  {
   "cell_type": "code",
   "execution_count": null,
   "metadata": {},
   "outputs": [],
   "source": [
    "c_none = np.convolve(jump[idx_none], kernel, mode='valid')"
   ]
  },
  {
   "cell_type": "code",
   "execution_count": null,
   "metadata": {},
   "outputs": [],
   "source": [
    "p_convolve = figure(plot_width=950)"
   ]
  },
  {
   "cell_type": "code",
   "execution_count": null,
   "metadata": {},
   "outputs": [],
   "source": [
    "p_convolve.circle(range(len(c_none)), c_none, size=2)"
   ]
  },
  {
   "cell_type": "code",
   "execution_count": null,
   "metadata": {},
   "outputs": [],
   "source": [
    "show(p_convolve)"
   ]
  },
  {
   "cell_type": "code",
   "execution_count": null,
   "metadata": {},
   "outputs": [],
   "source": [
    "c_jumps = np.convolve(mva_jumps, kernel, mode='valid')"
   ]
  },
  {
   "cell_type": "code",
   "execution_count": null,
   "metadata": {},
   "outputs": [],
   "source": [
    "p_jumps = figure(plot_width=950)"
   ]
  },
  {
   "cell_type": "code",
   "execution_count": null,
   "metadata": {},
   "outputs": [],
   "source": [
    "p_jumps.circle(range(len(c_jumps)), c_jumps, size=2)"
   ]
  },
  {
   "cell_type": "code",
   "execution_count": null,
   "metadata": {},
   "outputs": [],
   "source": [
    "show(p_jumps)"
   ]
  },
  {
   "cell_type": "code",
   "execution_count": null,
   "metadata": {},
   "outputs": [],
   "source": [
    "central_idxs = central_idxs_constraint(c_jumps, 0.7, adj=5+1)"
   ]
  },
  {
   "cell_type": "code",
   "execution_count": null,
   "metadata": {},
   "outputs": [],
   "source": [
    "central_idxs"
   ]
  },
  {
   "cell_type": "markdown",
   "metadata": {},
   "source": [
    "## Try the sobel"
   ]
  },
  {
   "cell_type": "code",
   "execution_count": null,
   "metadata": {},
   "outputs": [],
   "source": [
    "s = ndimage.sobel(mva_jumps)"
   ]
  },
  {
   "cell_type": "code",
   "execution_count": null,
   "metadata": {},
   "outputs": [],
   "source": [
    "p_sobel = figure()"
   ]
  },
  {
   "cell_type": "code",
   "execution_count": null,
   "metadata": {},
   "outputs": [],
   "source": [
    "p_sobel.circle(range(len(s)), s, size=2)"
   ]
  },
  {
   "cell_type": "code",
   "execution_count": null,
   "metadata": {},
   "outputs": [],
   "source": [
    "show(p_sobel)"
   ]
  },
  {
   "cell_type": "code",
   "execution_count": null,
   "metadata": {},
   "outputs": [],
   "source": [
    "s_avg = moving_average(s, n=3)"
   ]
  },
  {
   "cell_type": "code",
   "execution_count": null,
   "metadata": {},
   "outputs": [],
   "source": [
    "p_sobel_avg = figure()\n",
    "p_sobel_avg.circle(range(len(s_avg)), s_avg, size=2)\n",
    "show(p_sobel_avg)"
   ]
  },
  {
   "cell_type": "code",
   "execution_count": null,
   "metadata": {},
   "outputs": [],
   "source": []
  }
 ],
 "metadata": {
  "kernelspec": {
   "display_name": "Python 3",
   "language": "python",
   "name": "python3"
  },
  "language_info": {
   "codemirror_mode": {
    "name": "ipython",
    "version": 3
   },
   "file_extension": ".py",
   "mimetype": "text/x-python",
   "name": "python",
   "nbconvert_exporter": "python",
   "pygments_lexer": "ipython3",
   "version": "3.6.8"
  }
 },
 "nbformat": 4,
 "nbformat_minor": 2
}
